{
 "cells": [
  {
   "cell_type": "code",
   "execution_count": 13,
   "id": "b48e0a5c",
   "metadata": {},
   "outputs": [],
   "source": [
    "import os\n",
    "import requests\n",
    "from dotenv import load_dotenv\n",
    "from IPython.display import Markdown, display\n",
    "from openai import OpenAI"
   ]
  },
  {
   "cell_type": "code",
   "execution_count": 14,
   "id": "41587dbf",
   "metadata": {},
   "outputs": [
    {
     "name": "stdout",
     "output_type": "stream",
     "text": [
      "API key found and looks good so far!\n"
     ]
    }
   ],
   "source": [
    "\n",
    "load_dotenv(override=True)\n",
    "api_key = os.getenv('OPENAI_API_KEY')\n",
    "\n",
    "#Check if the API key is loaded\n",
    "\n",
    "if not api_key:\n",
    "    print(\"No API key was found - please head over to the troubleshooting notebook in this folder to identify & fix!\")\n",
    "elif not api_key.startswith(\"sk-proj-\"):\n",
    "    print(\"An API key was found, but it doesn't start sk-proj-; please check you're using the right key - see troubleshooting notebook\")\n",
    "elif api_key.strip() != api_key:\n",
    "    print(\"An API key was found, but it looks like it might have space or tab characters at the start or end - please remove them - see troubleshooting notebook\")\n",
    "else:\n",
    "    print(\"API key found and looks good so far!\")"
   ]
  },
  {
   "cell_type": "code",
   "execution_count": 15,
   "id": "067db085",
   "metadata": {},
   "outputs": [],
   "source": [
    "openai = OpenAI()"
   ]
  },
  {
   "cell_type": "code",
   "execution_count": 29,
   "id": "64bed7f1",
   "metadata": {},
   "outputs": [
    {
     "name": "stdout",
     "output_type": "stream",
     "text": [
      "Dear Carlos,\n",
      "\n",
      "Espero que te encuentres bien. Quería tomarme un momento para agradecerte por tu apoyo en el proyecto de desarrollo de software que hemos estado ejecutando. Tu experiencia fue invaluable y los comentarios que proporcionaste al equipo realmente marcaron la diferencia.\n",
      "\n",
      "Además, quería preguntarte si estarías disponible para una reunión la próxima semana, el martes 10 de octubre, a las 10:00 a.m. en nuestra oficina de Madrid. Me gustaría discutir algunas actualizaciones y asegurarme de que todos estemos alineados antes de la próxima fase del proyecto.\n",
      "\n",
      "Aprecio mucho tu colaboración y espero tu respuesta.\n",
      "\n",
      "Saludos cordiales,\n",
      "\n",
      "Mark Thompson  \n",
      "Project Manager  \n",
      "Tech Innovations Ltd.\n"
     ]
    }
   ],
   "source": [
    "# Create a prompt to create a mock emails that are going to be summarized later\n",
    "\n",
    "system_prompt1 = \"\"\"\n",
    "You are a user that writes emails to colleagues and clients in a professional manner and choosing randomly the language between spanish, english and japanese.\"\"\"\n",
    "user_prompt1 = \"\"\"\n",
    "Write a mock email about anything you want. It can be a work email, a personal email, or anything else.\n",
    "THe email can be written in english, spanish or japanese. The message should be complete and it can include fake names, dates, and places.\n",
    "Do not provide any subject line, but make sure to include a greeting and a closing.\n",
    "\"\"\"\n",
    "\n",
    "messages1 = [\n",
    "    {\"role\": \"system\", \"content\": system_prompt1},\n",
    "    {\"role\": \"user\", \"content\": user_prompt1}\n",
    "]\n",
    "\n",
    "response1 = openai.chat.completions.create(\n",
    "    model=\"gpt-4o-mini\",\n",
    "    messages=messages1\n",
    ")\n",
    "email = response1.choices[0].message.content\n",
    "print(email)"
   ]
  },
  {
   "cell_type": "code",
   "execution_count": 31,
   "id": "cd5e301e",
   "metadata": {},
   "outputs": [
    {
     "data": {
      "text/markdown": [
       "### Summary of the Email\n",
       "\n",
       "Mark Thompson, the Project Manager at Tech Innovations Ltd., expressed appreciation for Carlos's support on the software development project, highlighting the value of his expertise and feedback. He also requested a meeting on Tuesday, October 10th, at 10:00 a.m. in their Madrid office to discuss updates and ensure alignment for the next phase of the project.\n",
       "\n",
       "### Proposed Response\n",
       "\n",
       "Estimado Mark,\n",
       "\n",
       "Gracias por tus amables palabras. Fue un placer colaborar en el proyecto. \n",
       "\n",
       "Confirmo mi disponibilidad para la reunión el martes 10 de octubre a las 10:00 a.m. en la oficina de Madrid. Espero con interés discutir las actualizaciones contigo.\n",
       "\n",
       "Saludos cordiales,\n",
       "\n",
       "Carlos"
      ],
      "text/plain": [
       "<IPython.core.display.Markdown object>"
      ]
     },
     "metadata": {},
     "output_type": "display_data"
    }
   ],
   "source": [
    "# Create a prompt to summarize the email\n",
    "system_prompt2 = \"\"\"\n",
    "You are an assistant that summarizes in english emails in a professional manner from whichever language they are written in\n",
    "\"\"\"\n",
    "user_prompt2 = f\"\"\"\n",
    "Here is an email that I received:\n",
    "{email}\n",
    "Please summarize the email in a professional manner in English, and then a proposed short response to that email in the same language as the original email. Please respond with Markdown format.\"\"\"\n",
    "\n",
    "messages2 =[\n",
    "    {\"role\": \"system\", \"content\": system_prompt2},\n",
    "    {\"role\": \"user\", \"content\": user_prompt2}\n",
    "]\n",
    "\n",
    "response2 = openai.chat.completions.create(\n",
    "     model=\"gpt-4o-mini\",\n",
    "    messages=messages2\n",
    ")\n",
    "\n",
    "display(Markdown(response2.choices[0].message.content))\n"
   ]
  }
 ],
 "metadata": {
  "kernelspec": {
   "display_name": "llms",
   "language": "python",
   "name": "python3"
  },
  "language_info": {
   "codemirror_mode": {
    "name": "ipython",
    "version": 3
   },
   "file_extension": ".py",
   "mimetype": "text/x-python",
   "name": "python",
   "nbconvert_exporter": "python",
   "pygments_lexer": "ipython3",
   "version": "3.11.12"
  }
 },
 "nbformat": 4,
 "nbformat_minor": 5
}
